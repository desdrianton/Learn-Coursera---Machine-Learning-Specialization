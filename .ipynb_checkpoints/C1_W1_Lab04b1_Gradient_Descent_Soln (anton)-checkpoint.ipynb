{
 "cells": [
  {
   "cell_type": "code",
   "execution_count": 2,
   "metadata": {},
   "outputs": [
    {
     "name": "stdout",
     "output_type": "stream",
     "text": [
      "x_train       : [1. 2.]\n",
      "y_train       : [300. 500.]\n",
      "Optimum w     : -48453.651333120026\n",
      "Optimum b     : -29956.671528960018\n"
     ]
    }
   ],
   "source": [
    "import numpy as np\n",
    "\n",
    "# ----------------------------------------\n",
    "# Define function\n",
    "# ----------------------------------------\n",
    "def calc_linear_regression_model(w, b, x):\n",
    "    return w*x + b\n",
    "\n",
    "\n",
    "def calc_cost_function_partial_derivative_w(x_train: np.ndarray, y_train: np.ndarray, w: float, b: float):\n",
    "    m = x_train.shape[0]\n",
    "    total = 0\n",
    "\n",
    "    for i in range(m):\n",
    "        x_i = x_train[i]\n",
    "        y_i = y_train[i]\n",
    "        y_hat_i = calc_linear_regression_model(w, b, x_i)   # y_hat_i = f_wb_i\n",
    "        total = total + ((y_hat_i - y_i) * x_i)\n",
    "\n",
    "    return 1 / m * total\n",
    "\n",
    "\n",
    "def calc_cost_function_partial_derivative_b(x_train: np.ndarray, y_train: np.ndarray, w: float, b: float):\n",
    "    m = x_train.shape[0]\n",
    "    total = 0\n",
    "\n",
    "    for i in range(m):\n",
    "        x_i = x_train[i]\n",
    "        y_i = y_train[i]\n",
    "        y_hat_i = calc_linear_regression_model(w, b, x_i)   # y_hat_i = f_wb_i\n",
    "        total = total + (y_hat_i - y_i)\n",
    "\n",
    "    return 1 / m * total\n",
    "\n",
    "\n",
    "\n",
    "def find_optimum_w_and_b(x_train: np.ndarray, y_train: np.ndarray, alpha, w_init, b_init, batch_count):\n",
    "    w_optimum = w_init\n",
    "    b_optimum = b_init\n",
    "    m = x_train.shape[0]\n",
    "\n",
    "    for iter in range(batch_count):\n",
    "        w_temp = w_optimum - alpha * calc_cost_function_partial_derivative_w(x_train, y_train, w_optimum, b_optimum)\n",
    "        b_temp = b_optimum - alpha * calc_cost_function_partial_derivative_b(x_train, y_train, w_optimum, b_optimum)\n",
    "        w_optimum = w_temp\n",
    "        b_optimum = b_temp\n",
    "\n",
    "    return w_optimum, b_optimum\n",
    "\n",
    "\n",
    "# ----------------------------------------\n",
    "# Running\n",
    "# ----------------------------------------\n",
    "x_train = np.array([1.0, 2.0])              # Feature\n",
    "y_train = np.array([300.0, 500.0])          # Expected value\n",
    "alpha = 8.0e-1                              # alpha = learning rate\n",
    "w_init = 0\n",
    "b_init = 0\n",
    "batch_count = 10\n",
    "\n",
    "w_optimum, b_optimum = find_optimum_w_and_b(x_train, y_train, alpha, w_init, b_init, batch_count)\n",
    "\n",
    "\n",
    "print(f\"x_train       : {x_train}\")\n",
    "print(f\"y_train       : {y_train}\")\n",
    "print(f\"Optimum w     : {w_optimum}\")\n",
    "print(f\"Optimum b     : {b_optimum}\")"
   ]
  }
 ],
 "metadata": {
  "kernelspec": {
   "display_name": "Python 3 (ipykernel)",
   "language": "python",
   "name": "python3"
  },
  "language_info": {
   "codemirror_mode": {
    "name": "ipython",
    "version": 3
   },
   "file_extension": ".py",
   "mimetype": "text/x-python",
   "name": "python",
   "nbconvert_exporter": "python",
   "pygments_lexer": "ipython3",
   "version": "3.12.4"
  }
 },
 "nbformat": 4,
 "nbformat_minor": 2
}
