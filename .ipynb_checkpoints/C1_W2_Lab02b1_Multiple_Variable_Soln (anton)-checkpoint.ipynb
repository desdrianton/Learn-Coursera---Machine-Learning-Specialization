{
 "cells": [
  {
   "cell_type": "code",
   "execution_count": 5,
   "id": "ebf8c019-7b2d-4e3d-a5a1-1d3e75ee8b7a",
   "metadata": {
    "editable": true,
    "slideshow": {
     "slide_type": ""
    },
    "tags": []
   },
   "outputs": [
    {
     "name": "stdout",
     "output_type": "stream",
     "text": [
      "x_train\n",
      " [[2104    5    1   45]\n",
      " [1416    3    2   40]\n",
      " [ 852    2    1   35]]\n",
      "\n",
      "y_train\n",
      " [460 232 178]\n",
      "\n",
      "Optimum w\n",
      "[ 0.20396569  0.00374919 -0.0112487  -0.0658614 ]\n",
      "\n",
      "Optimum b\n",
      "-0.002235407530932535\n",
      "\n"
     ]
    }
   ],
   "source": [
    "import numpy as np\n",
    "\n",
    "# ----------------------------------------\n",
    "# Define function\n",
    "# ----------------------------------------\n",
    "def calc_linear_regression_model(w, b, x):\n",
    "    return np.dot(w, x) + b\n",
    "\n",
    "\n",
    "def calc_cost_function_partial_derivative_w(x_train: np.ndarray, y_train: np.ndarray, w: np.ndarray, b: float):\n",
    "    m = x_train.shape[0]\n",
    "    total = 0\n",
    "\n",
    "    for i in range(m):\n",
    "        x_i = x_train[i]\n",
    "        y_i = y_train[i]\n",
    "        y_hat_i = calc_linear_regression_model(w, b, x_i)\n",
    "        total = total + ((y_hat_i - y_i) * x_i)\n",
    "\n",
    "    return 1 / m * total\n",
    "\n",
    "\n",
    "def calc_cost_function_partial_derivative_b(x_train: np.ndarray, y_train: np.ndarray, w: float, b: float):\n",
    "    m = x_train.shape[0]\n",
    "    total = 0\n",
    "\n",
    "    for i in range(m):\n",
    "        x_i = x_train[i]\n",
    "        y_i = y_train[i]\n",
    "        y_hat_i = calc_linear_regression_model(w, b, x_i)\n",
    "        total = total + (y_hat_i - y_i)\n",
    "\n",
    "    return 1 / m * total\n",
    "\n",
    "\n",
    "def find_optimum_w_and_b(x_train: np.ndarray, y_train: np.ndarray, alpha, w_init: np.ndarray, b_init, batch_count):\n",
    "    w_optimum = w_init\n",
    "    b_optimum = b_init\n",
    "    m = x_train.shape[0]\n",
    "    \n",
    "    for iter in range(batch_count):\n",
    "        w_temp = w_optimum - alpha * calc_cost_function_partial_derivative_w(x_train, y_train, w_optimum, b_optimum)\n",
    "        b_temp = b_optimum - alpha * calc_cost_function_partial_derivative_b(x_train, y_train, w_optimum, b_optimum)\n",
    "        w_optimum = w_temp\n",
    "        b_optimum = b_temp\n",
    "\n",
    "    return w_optimum, b_optimum\n",
    "\n",
    "\n",
    "# ----------------------------------------\n",
    "# Running\n",
    "# ----------------------------------------\n",
    "x_train = np.array([[2104, 5, 1, 45], [1416, 3, 2, 40], [852, 2, 1, 35]])\n",
    "y_train = np.array([460, 232, 178])\n",
    "alpha = 5.0e-7\n",
    "w_init = np.zeros_like([ 0.39133535, 18.75376741, -53.36032453, -26.42131618])\n",
    "b_init = 0\n",
    "batch_count = 1000\n",
    "\n",
    "w_optimum, b_optimum = find_optimum_w_and_b(x_train, y_train, alpha, w_init, b_init, batch_count)\n",
    "\n",
    "\n",
    "print(f\"x_train\\n {x_train}\\n\")\n",
    "print(f\"y_train\\n {y_train}\\n\")\n",
    "print(f\"Optimum w\\n{w_optimum}\\n\")\n",
    "print(f\"Optimum b\\n{b_optimum}\\n\")\n"
   ]
  }
 ],
 "metadata": {
  "kernelspec": {
   "display_name": "Python 3 (ipykernel)",
   "language": "python",
   "name": "python3"
  },
  "language_info": {
   "codemirror_mode": {
    "name": "ipython",
    "version": 3
   },
   "file_extension": ".py",
   "mimetype": "text/x-python",
   "name": "python",
   "nbconvert_exporter": "python",
   "pygments_lexer": "ipython3",
   "version": "3.12.4"
  }
 },
 "nbformat": 4,
 "nbformat_minor": 5
}
